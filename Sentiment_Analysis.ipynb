{
  "nbformat": 4,
  "nbformat_minor": 0,
  "metadata": {
    "colab": {
      "provenance": [],
      "authorship_tag": "ABX9TyP1cnllw81/mMxKmY0ASTvx",
      "include_colab_link": true
    },
    "kernelspec": {
      "name": "python3",
      "display_name": "Python 3"
    },
    "language_info": {
      "name": "python"
    }
  },
  "cells": [
    {
      "cell_type": "markdown",
      "metadata": {
        "id": "view-in-github",
        "colab_type": "text"
      },
      "source": [
        "<a href=\"https://colab.research.google.com/github/karinefonseca/machine_learning_python_R/blob/main/Sentiment_Analysis.ipynb\" target=\"_parent\"><img src=\"https://colab.research.google.com/assets/colab-badge.svg\" alt=\"Open In Colab\"/></a>"
      ]
    },
    {
      "cell_type": "code",
      "source": [
        "!pip install transformers"
      ],
      "metadata": {
        "id": "DTCGm0XYLFHN"
      },
      "execution_count": null,
      "outputs": []
    },
    {
      "cell_type": "code",
      "source": [
        "import torch\n",
        "from transformers import BertTokenizer, BertForSequenceClassification\n",
        "\n",
        "# Carregar o tokenizador e o modelo BERT para análise de sentimentos\n",
        "tokenizer = BertTokenizer.from_pretrained('bert-base-uncased')\n",
        "model = BertForSequenceClassification.from_pretrained('bert-base-uncased')\n",
        "\n",
        "# Função para realizar a análise de sentimentos\n",
        "def analyze_sentiment(text):\n",
        "    # Tokenizar o texto\n",
        "    inputs = tokenizer(text, return_tensors='pt', max_length=512, truncation=True)\n",
        "\n",
        "    # Realizar a inferência no modelo\n",
        "    outputs = model(**inputs)\n",
        "\n",
        "    # Obter as probabilidades de cada classe de sentimento\n",
        "    probabilities = torch.softmax(outputs.logits, dim=1)\n",
        "\n",
        "    return probabilities\n",
        "\n",
        "# Texto de exemplo para análise\n",
        "texto_exemplo = \"I just love watch tv shows!\"\n",
        "\n",
        "# Probabilidades\n",
        "probabilidades = analyze_sentiment(texto_exemplo)\n",
        "print(\"Probabilidades de Sentimento:\")\n",
        "print(\"Negativo:\", probabilidades[0][0].item())\n",
        "print(\"Positivo:\", probabilidades[0][1].item())"
      ],
      "metadata": {
        "colab": {
          "base_uri": "https://localhost:8080/"
        },
        "id": "8NIe16AbMUsB",
        "outputId": "3179e62e-59cc-4df9-dd22-63fa5f55c7de"
      },
      "execution_count": 26,
      "outputs": [
        {
          "output_type": "stream",
          "name": "stderr",
          "text": [
            "Some weights of BertForSequenceClassification were not initialized from the model checkpoint at bert-base-uncased and are newly initialized: ['classifier.bias', 'classifier.weight']\n",
            "You should probably TRAIN this model on a down-stream task to be able to use it for predictions and inference.\n"
          ]
        },
        {
          "output_type": "stream",
          "name": "stdout",
          "text": [
            "Probabilidades de Sentimento:\n",
            "Negativo: 0.2330920249223709\n",
            "Positivo: 0.7669079899787903\n"
          ]
        }
      ]
    }
  ]
}