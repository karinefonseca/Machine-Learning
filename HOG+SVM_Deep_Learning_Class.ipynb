{
  "nbformat": 4,
  "nbformat_minor": 0,
  "metadata": {
    "colab": {
      "provenance": [],
      "authorship_tag": "ABX9TyPTGESCdl0DBJO51ZvMfbBs",
      "include_colab_link": true
    },
    "kernelspec": {
      "name": "python3",
      "display_name": "Python 3"
    },
    "language_info": {
      "name": "python"
    }
  },
  "cells": [
    {
      "cell_type": "markdown",
      "metadata": {
        "id": "view-in-github",
        "colab_type": "text"
      },
      "source": [
        "<a href=\"https://colab.research.google.com/github/karinefonseca/machine_learning_python_R/blob/main/HOG%2BSVM_Deep_Learning_Class.ipynb\" target=\"_parent\"><img src=\"https://colab.research.google.com/assets/colab-badge.svg\" alt=\"Open In Colab\"/></a>"
      ]
    },
    {
      "cell_type": "code",
      "execution_count": 1,
      "metadata": {
        "id": "RpUSiiTV45WF",
        "colab": {
          "base_uri": "https://localhost:8080/"
        },
        "outputId": "05d59da3-39fe-42fe-eea3-7681085f01a0"
      },
      "outputs": [
        {
          "output_type": "stream",
          "name": "stdout",
          "text": [
            "Drive already mounted at /content/drive; to attempt to forcibly remount, call drive.mount(\"/content/drive\", force_remount=True).\n",
            "Train Accuracy: 0.7943609540879636\n",
            "Test Accuracy: 0.7378156667202831\n"
          ]
        }
      ],
      "source": [
        "import os\n",
        "import cv2\n",
        "import numpy as np\n",
        "from skimage.feature import hog\n",
        "from sklearn import svm\n",
        "from sklearn.model_selection import train_test_split\n",
        "from sklearn.metrics import accuracy_score\n",
        "\n",
        "# Caminho para as pastas de gatos e cães\n",
        "\n",
        "from google.colab import drive\n",
        "drive.mount('/content/drive')\n",
        "\n",
        "\n",
        "cat_folder = '/content/drive/My Drive/Colab Notebooks/PetImages/Cat'\n",
        "dog_folder = '/content/drive/My Drive/Colab Notebooks/PetImages/Dog'\n",
        "\n",
        "# Configuração de parâmetros para o HOG\n",
        "def extract_hog_features(image):\n",
        "    return hog(image, pixels_per_cell=(8, 8), cells_per_block=(2, 2), block_norm='L2-Hys')\n",
        "\n",
        "# Função para carregar imagens e extrair HOG\n",
        "def load_images_and_labels(folder, label, size=(64, 64)):\n",
        "    features = []\n",
        "    labels = []\n",
        "    for filename in os.listdir(folder):\n",
        "        filepath = os.path.join(folder, filename)\n",
        "        image = cv2.imread(filepath, cv2.IMREAD_GRAYSCALE)  # Carregar em escala de cinza\n",
        "        if image is not None:\n",
        "            image = cv2.resize(image, size)  # Redimensionar\n",
        "            hog_features = extract_hog_features(image)\n",
        "            features.append(hog_features)\n",
        "            labels.append(label)\n",
        "    return features, labels\n",
        "\n",
        "# Carregar imagens de gatos (1) e cães (0)\n",
        "cat_features, cat_labels = load_images_and_labels(cat_folder, label=1)\n",
        "dog_features, dog_labels = load_images_and_labels(dog_folder, label=0)\n",
        "\n",
        "# Combinar e dividir em treino e teste\n",
        "features = np.array(cat_features + dog_features)\n",
        "labels = np.array(cat_labels + dog_labels)\n",
        "X_train, X_test, y_train, y_test = train_test_split(features, labels, test_size=0.3, stratify=labels)\n",
        "\n",
        "# Treinar o modelo SVM\n",
        "clf = svm.SVC(kernel='linear', C=1)\n",
        "clf.fit(X_train, y_train)\n",
        "\n",
        "# Avaliar o modelo\n",
        "y_pred_train = clf.predict(X_train)\n",
        "y_pred_test = clf.predict(X_test)\n",
        "\n",
        "train_accuracy = accuracy_score(y_train, y_pred_train)\n",
        "test_accuracy = accuracy_score(y_test, y_pred_test)\n",
        "\n",
        "print(f\"Train Accuracy: {train_accuracy}\")\n",
        "print(f\"Test Accuracy: {test_accuracy}\")"
      ]
    }
  ]
}